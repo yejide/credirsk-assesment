{
  "nbformat": 4,
  "nbformat_minor": 0,
  "metadata": {
    "kernelspec": {
      "display_name": "Python 3",
      "language": "python",
      "name": "python3"
    },
    "language_info": {
      "codemirror_mode": {
        "name": "ipython",
        "version": 3
      },
      "file_extension": ".py",
      "mimetype": "text/x-python",
      "name": "python",
      "nbconvert_exporter": "python",
      "pygments_lexer": "ipython3",
      "version": "3.7.4"
    },
    "colab": {
      "name": "German.ipynb",
      "provenance": []
    }
  },
  "cells": [
    {
      "cell_type": "markdown",
      "metadata": {
        "id": "ma2WxA_-rrYv"
      },
      "source": [
        "# Answer to Question 1 :\n",
        "Reading the csv file using pandas and storing it in a dataframe"
      ]
    },
    {
      "cell_type": "code",
      "metadata": {
        "id": "0lfZSCe8rrYy"
      },
      "source": [
        "## Classification Algorithms\n",
        "\n",
        "from sklearn.linear_model import LogisticRegression, SGDClassifier\n",
        "from sklearn.tree import DecisionTreeClassifier\n",
        "from sklearn.neighbors import KNeighborsClassifier\n",
        "from sklearn.ensemble import RandomForestClassifier, AdaBoostClassifier, GradientBoostingClassifier\n",
        "from sklearn.svm import SVC\n",
        "\n",
        "\n",
        "from sklearn.preprocessing import LabelEncoder, StandardScaler, OneHotEncoder\n",
        "\n",
        "import pandas as pd\n",
        "import numpy as np\n",
        "\n",
        "# importing ploting libraries\n",
        "import matplotlib.pyplot as plt   \n",
        "# To enable plotting graphs in Jupyter notebook\n",
        "%matplotlib inline\n",
        "#importing seaborn for statistical plots\n",
        "import seaborn as sns\n",
        "\n",
        "\n",
        "# Libraries for constructing Pipelines\n",
        "from sklearn.pipeline import Pipeline, make_pipeline\n",
        "\n",
        "from sklearn.model_selection import train_test_split, GridSearchCV, KFold, cross_val_score\n",
        "\n",
        "# Library for Normalization of Numerical Data\n",
        "from scipy.stats import zscore\n",
        "\n",
        "# calculate accuracy measures and confusion matrix\n",
        "from sklearn import metrics\n",
        "from sklearn.metrics import confusion_matrix\n",
        "\n",
        "# Suppress warnings\n",
        "import warnings\n",
        "warnings.filterwarnings(\"ignore\")"
      ],
      "execution_count": 1,
      "outputs": []
    },
    {
      "cell_type": "code",
      "metadata": {
        "id": "Whtl7gaNrrYz"
      },
      "source": [
        "import pandas as pd\n",
        "data = pd.read_csv(\"german.csv\", header=0, infer_datetime_format=True, parse_dates=[0], index_col=[0])"
      ],
      "execution_count": 2,
      "outputs": []
    },
    {
      "cell_type": "code",
      "metadata": {
        "id": "fezniL9VrrY0",
        "colab": {
          "base_uri": "https://localhost:8080/"
        },
        "outputId": "1b446e94-465e-4c19-d6c1-29c9c5132e9c"
      },
      "source": [
        "# Checking the shape of the data (dimensions)\n",
        "data.shape\n",
        "\n",
        "# 1000 rows and 21 columns"
      ],
      "execution_count": 3,
      "outputs": [
        {
          "output_type": "execute_result",
          "data": {
            "text/plain": [
              "(1000, 21)"
            ]
          },
          "metadata": {},
          "execution_count": 3
        }
      ]
    },
    {
      "cell_type": "code",
      "metadata": {
        "id": "oqOO9xgurrY1",
        "colab": {
          "base_uri": "https://localhost:8080/",
          "height": 204
        },
        "outputId": "cdc3fc28-46f2-4168-d587-e05506217bb0"
      },
      "source": [
        "data.head()"
      ],
      "execution_count": 4,
      "outputs": [
        {
          "output_type": "execute_result",
          "data": {
            "text/html": [
              "<div>\n",
              "<style scoped>\n",
              "    .dataframe tbody tr th:only-of-type {\n",
              "        vertical-align: middle;\n",
              "    }\n",
              "\n",
              "    .dataframe tbody tr th {\n",
              "        vertical-align: top;\n",
              "    }\n",
              "\n",
              "    .dataframe thead th {\n",
              "        text-align: right;\n",
              "    }\n",
              "</style>\n",
              "<table border=\"1\" class=\"dataframe\">\n",
              "  <thead>\n",
              "    <tr style=\"text-align: right;\">\n",
              "      <th></th>\n",
              "      <th>V1</th>\n",
              "      <th>V2</th>\n",
              "      <th>V3</th>\n",
              "      <th>V4</th>\n",
              "      <th>V5</th>\n",
              "      <th>V6</th>\n",
              "      <th>V7</th>\n",
              "      <th>V8</th>\n",
              "      <th>V9</th>\n",
              "      <th>V10</th>\n",
              "      <th>V11</th>\n",
              "      <th>V12</th>\n",
              "      <th>V13</th>\n",
              "      <th>V14</th>\n",
              "      <th>V15</th>\n",
              "      <th>V16</th>\n",
              "      <th>V17</th>\n",
              "      <th>V18</th>\n",
              "      <th>V19</th>\n",
              "      <th>V20</th>\n",
              "      <th>V21</th>\n",
              "    </tr>\n",
              "  </thead>\n",
              "  <tbody>\n",
              "    <tr>\n",
              "      <th>1</th>\n",
              "      <td>A11</td>\n",
              "      <td>6</td>\n",
              "      <td>A34</td>\n",
              "      <td>A43</td>\n",
              "      <td>1169</td>\n",
              "      <td>A65</td>\n",
              "      <td>A75</td>\n",
              "      <td>4</td>\n",
              "      <td>A93</td>\n",
              "      <td>A101</td>\n",
              "      <td>4</td>\n",
              "      <td>A121</td>\n",
              "      <td>67</td>\n",
              "      <td>A143</td>\n",
              "      <td>A152</td>\n",
              "      <td>2</td>\n",
              "      <td>A173</td>\n",
              "      <td>good</td>\n",
              "      <td>A192</td>\n",
              "      <td>A201</td>\n",
              "      <td>1</td>\n",
              "    </tr>\n",
              "    <tr>\n",
              "      <th>2</th>\n",
              "      <td>A12</td>\n",
              "      <td>48</td>\n",
              "      <td>A32</td>\n",
              "      <td>A43</td>\n",
              "      <td>5951</td>\n",
              "      <td>A61</td>\n",
              "      <td>A73</td>\n",
              "      <td>2</td>\n",
              "      <td>A92</td>\n",
              "      <td>A101</td>\n",
              "      <td>2</td>\n",
              "      <td>A121</td>\n",
              "      <td>22</td>\n",
              "      <td>A143</td>\n",
              "      <td>A152</td>\n",
              "      <td>1</td>\n",
              "      <td>A173</td>\n",
              "      <td>good</td>\n",
              "      <td>A191</td>\n",
              "      <td>A201</td>\n",
              "      <td>2</td>\n",
              "    </tr>\n",
              "    <tr>\n",
              "      <th>3</th>\n",
              "      <td>A14</td>\n",
              "      <td>12</td>\n",
              "      <td>A34</td>\n",
              "      <td>A46</td>\n",
              "      <td>2096</td>\n",
              "      <td>A61</td>\n",
              "      <td>A74</td>\n",
              "      <td>2</td>\n",
              "      <td>A93</td>\n",
              "      <td>A101</td>\n",
              "      <td>3</td>\n",
              "      <td>A121</td>\n",
              "      <td>49</td>\n",
              "      <td>A143</td>\n",
              "      <td>A152</td>\n",
              "      <td>1</td>\n",
              "      <td>A172</td>\n",
              "      <td>bad</td>\n",
              "      <td>A191</td>\n",
              "      <td>A201</td>\n",
              "      <td>1</td>\n",
              "    </tr>\n",
              "    <tr>\n",
              "      <th>4</th>\n",
              "      <td>A11</td>\n",
              "      <td>42</td>\n",
              "      <td>A32</td>\n",
              "      <td>A42</td>\n",
              "      <td>7882</td>\n",
              "      <td>A61</td>\n",
              "      <td>A74</td>\n",
              "      <td>2</td>\n",
              "      <td>A93</td>\n",
              "      <td>A103</td>\n",
              "      <td>4</td>\n",
              "      <td>A122</td>\n",
              "      <td>45</td>\n",
              "      <td>A143</td>\n",
              "      <td>A153</td>\n",
              "      <td>1</td>\n",
              "      <td>A173</td>\n",
              "      <td>bad</td>\n",
              "      <td>A191</td>\n",
              "      <td>A201</td>\n",
              "      <td>1</td>\n",
              "    </tr>\n",
              "    <tr>\n",
              "      <th>5</th>\n",
              "      <td>A11</td>\n",
              "      <td>24</td>\n",
              "      <td>A33</td>\n",
              "      <td>A40</td>\n",
              "      <td>4870</td>\n",
              "      <td>A61</td>\n",
              "      <td>A73</td>\n",
              "      <td>3</td>\n",
              "      <td>A93</td>\n",
              "      <td>A101</td>\n",
              "      <td>4</td>\n",
              "      <td>A124</td>\n",
              "      <td>53</td>\n",
              "      <td>A143</td>\n",
              "      <td>A153</td>\n",
              "      <td>2</td>\n",
              "      <td>A173</td>\n",
              "      <td>bad</td>\n",
              "      <td>A191</td>\n",
              "      <td>A201</td>\n",
              "      <td>2</td>\n",
              "    </tr>\n",
              "  </tbody>\n",
              "</table>\n",
              "</div>"
            ],
            "text/plain": [
              "    V1  V2   V3   V4    V5   V6   V7  ...   V15 V16   V17   V18   V19   V20 V21\n",
              "1  A11   6  A34  A43  1169  A65  A75  ...  A152   2  A173  good  A192  A201   1\n",
              "2  A12  48  A32  A43  5951  A61  A73  ...  A152   1  A173  good  A191  A201   2\n",
              "3  A14  12  A34  A46  2096  A61  A74  ...  A152   1  A172   bad  A191  A201   1\n",
              "4  A11  42  A32  A42  7882  A61  A74  ...  A153   1  A173   bad  A191  A201   1\n",
              "5  A11  24  A33  A40  4870  A61  A73  ...  A153   2  A173   bad  A191  A201   2\n",
              "\n",
              "[5 rows x 21 columns]"
            ]
          },
          "metadata": {},
          "execution_count": 4
        }
      ]
    },
    {
      "cell_type": "markdown",
      "metadata": {
        "id": "27k4I-b7rrY1"
      },
      "source": [
        "# Answer to Question 2:"
      ]
    },
    {
      "cell_type": "code",
      "metadata": {
        "id": "JwMV4ljErrY2",
        "colab": {
          "base_uri": "https://localhost:8080/",
          "height": 439
        },
        "outputId": "90439cb0-b887-4837-daa9-841ecdcf0e1a"
      },
      "source": [
        "data.columns = ['chk_acct','duration','credit_his','purpose','amount','saving_acct',\n",
        "               'present_emp','installment_rate','sex','other_debtor','present_resid','property',\n",
        "               'age','other_install','housing','n_credits','job','n_people','telephone','foreign','response']\n",
        "data"
      ],
      "execution_count": 5,
      "outputs": [
        {
          "output_type": "execute_result",
          "data": {
            "text/html": [
              "<div>\n",
              "<style scoped>\n",
              "    .dataframe tbody tr th:only-of-type {\n",
              "        vertical-align: middle;\n",
              "    }\n",
              "\n",
              "    .dataframe tbody tr th {\n",
              "        vertical-align: top;\n",
              "    }\n",
              "\n",
              "    .dataframe thead th {\n",
              "        text-align: right;\n",
              "    }\n",
              "</style>\n",
              "<table border=\"1\" class=\"dataframe\">\n",
              "  <thead>\n",
              "    <tr style=\"text-align: right;\">\n",
              "      <th></th>\n",
              "      <th>chk_acct</th>\n",
              "      <th>duration</th>\n",
              "      <th>credit_his</th>\n",
              "      <th>purpose</th>\n",
              "      <th>amount</th>\n",
              "      <th>saving_acct</th>\n",
              "      <th>present_emp</th>\n",
              "      <th>installment_rate</th>\n",
              "      <th>sex</th>\n",
              "      <th>other_debtor</th>\n",
              "      <th>present_resid</th>\n",
              "      <th>property</th>\n",
              "      <th>age</th>\n",
              "      <th>other_install</th>\n",
              "      <th>housing</th>\n",
              "      <th>n_credits</th>\n",
              "      <th>job</th>\n",
              "      <th>n_people</th>\n",
              "      <th>telephone</th>\n",
              "      <th>foreign</th>\n",
              "      <th>response</th>\n",
              "    </tr>\n",
              "  </thead>\n",
              "  <tbody>\n",
              "    <tr>\n",
              "      <th>1</th>\n",
              "      <td>A11</td>\n",
              "      <td>6</td>\n",
              "      <td>A34</td>\n",
              "      <td>A43</td>\n",
              "      <td>1169</td>\n",
              "      <td>A65</td>\n",
              "      <td>A75</td>\n",
              "      <td>4</td>\n",
              "      <td>A93</td>\n",
              "      <td>A101</td>\n",
              "      <td>4</td>\n",
              "      <td>A121</td>\n",
              "      <td>67</td>\n",
              "      <td>A143</td>\n",
              "      <td>A152</td>\n",
              "      <td>2</td>\n",
              "      <td>A173</td>\n",
              "      <td>good</td>\n",
              "      <td>A192</td>\n",
              "      <td>A201</td>\n",
              "      <td>1</td>\n",
              "    </tr>\n",
              "    <tr>\n",
              "      <th>2</th>\n",
              "      <td>A12</td>\n",
              "      <td>48</td>\n",
              "      <td>A32</td>\n",
              "      <td>A43</td>\n",
              "      <td>5951</td>\n",
              "      <td>A61</td>\n",
              "      <td>A73</td>\n",
              "      <td>2</td>\n",
              "      <td>A92</td>\n",
              "      <td>A101</td>\n",
              "      <td>2</td>\n",
              "      <td>A121</td>\n",
              "      <td>22</td>\n",
              "      <td>A143</td>\n",
              "      <td>A152</td>\n",
              "      <td>1</td>\n",
              "      <td>A173</td>\n",
              "      <td>good</td>\n",
              "      <td>A191</td>\n",
              "      <td>A201</td>\n",
              "      <td>2</td>\n",
              "    </tr>\n",
              "    <tr>\n",
              "      <th>3</th>\n",
              "      <td>A14</td>\n",
              "      <td>12</td>\n",
              "      <td>A34</td>\n",
              "      <td>A46</td>\n",
              "      <td>2096</td>\n",
              "      <td>A61</td>\n",
              "      <td>A74</td>\n",
              "      <td>2</td>\n",
              "      <td>A93</td>\n",
              "      <td>A101</td>\n",
              "      <td>3</td>\n",
              "      <td>A121</td>\n",
              "      <td>49</td>\n",
              "      <td>A143</td>\n",
              "      <td>A152</td>\n",
              "      <td>1</td>\n",
              "      <td>A172</td>\n",
              "      <td>bad</td>\n",
              "      <td>A191</td>\n",
              "      <td>A201</td>\n",
              "      <td>1</td>\n",
              "    </tr>\n",
              "    <tr>\n",
              "      <th>4</th>\n",
              "      <td>A11</td>\n",
              "      <td>42</td>\n",
              "      <td>A32</td>\n",
              "      <td>A42</td>\n",
              "      <td>7882</td>\n",
              "      <td>A61</td>\n",
              "      <td>A74</td>\n",
              "      <td>2</td>\n",
              "      <td>A93</td>\n",
              "      <td>A103</td>\n",
              "      <td>4</td>\n",
              "      <td>A122</td>\n",
              "      <td>45</td>\n",
              "      <td>A143</td>\n",
              "      <td>A153</td>\n",
              "      <td>1</td>\n",
              "      <td>A173</td>\n",
              "      <td>bad</td>\n",
              "      <td>A191</td>\n",
              "      <td>A201</td>\n",
              "      <td>1</td>\n",
              "    </tr>\n",
              "    <tr>\n",
              "      <th>5</th>\n",
              "      <td>A11</td>\n",
              "      <td>24</td>\n",
              "      <td>A33</td>\n",
              "      <td>A40</td>\n",
              "      <td>4870</td>\n",
              "      <td>A61</td>\n",
              "      <td>A73</td>\n",
              "      <td>3</td>\n",
              "      <td>A93</td>\n",
              "      <td>A101</td>\n",
              "      <td>4</td>\n",
              "      <td>A124</td>\n",
              "      <td>53</td>\n",
              "      <td>A143</td>\n",
              "      <td>A153</td>\n",
              "      <td>2</td>\n",
              "      <td>A173</td>\n",
              "      <td>bad</td>\n",
              "      <td>A191</td>\n",
              "      <td>A201</td>\n",
              "      <td>2</td>\n",
              "    </tr>\n",
              "    <tr>\n",
              "      <th>...</th>\n",
              "      <td>...</td>\n",
              "      <td>...</td>\n",
              "      <td>...</td>\n",
              "      <td>...</td>\n",
              "      <td>...</td>\n",
              "      <td>...</td>\n",
              "      <td>...</td>\n",
              "      <td>...</td>\n",
              "      <td>...</td>\n",
              "      <td>...</td>\n",
              "      <td>...</td>\n",
              "      <td>...</td>\n",
              "      <td>...</td>\n",
              "      <td>...</td>\n",
              "      <td>...</td>\n",
              "      <td>...</td>\n",
              "      <td>...</td>\n",
              "      <td>...</td>\n",
              "      <td>...</td>\n",
              "      <td>...</td>\n",
              "      <td>...</td>\n",
              "    </tr>\n",
              "    <tr>\n",
              "      <th>996</th>\n",
              "      <td>A14</td>\n",
              "      <td>12</td>\n",
              "      <td>A32</td>\n",
              "      <td>A42</td>\n",
              "      <td>1736</td>\n",
              "      <td>A61</td>\n",
              "      <td>A74</td>\n",
              "      <td>3</td>\n",
              "      <td>A92</td>\n",
              "      <td>A101</td>\n",
              "      <td>4</td>\n",
              "      <td>A121</td>\n",
              "      <td>31</td>\n",
              "      <td>A143</td>\n",
              "      <td>A152</td>\n",
              "      <td>1</td>\n",
              "      <td>A172</td>\n",
              "      <td>good</td>\n",
              "      <td>A191</td>\n",
              "      <td>A201</td>\n",
              "      <td>1</td>\n",
              "    </tr>\n",
              "    <tr>\n",
              "      <th>997</th>\n",
              "      <td>A11</td>\n",
              "      <td>30</td>\n",
              "      <td>A32</td>\n",
              "      <td>A41</td>\n",
              "      <td>3857</td>\n",
              "      <td>A61</td>\n",
              "      <td>A73</td>\n",
              "      <td>4</td>\n",
              "      <td>A91</td>\n",
              "      <td>A101</td>\n",
              "      <td>4</td>\n",
              "      <td>A122</td>\n",
              "      <td>40</td>\n",
              "      <td>A143</td>\n",
              "      <td>A152</td>\n",
              "      <td>1</td>\n",
              "      <td>A174</td>\n",
              "      <td>good</td>\n",
              "      <td>A192</td>\n",
              "      <td>A201</td>\n",
              "      <td>1</td>\n",
              "    </tr>\n",
              "    <tr>\n",
              "      <th>998</th>\n",
              "      <td>A14</td>\n",
              "      <td>12</td>\n",
              "      <td>A32</td>\n",
              "      <td>A43</td>\n",
              "      <td>804</td>\n",
              "      <td>A61</td>\n",
              "      <td>A75</td>\n",
              "      <td>4</td>\n",
              "      <td>A93</td>\n",
              "      <td>A101</td>\n",
              "      <td>4</td>\n",
              "      <td>A123</td>\n",
              "      <td>38</td>\n",
              "      <td>A143</td>\n",
              "      <td>A152</td>\n",
              "      <td>1</td>\n",
              "      <td>A173</td>\n",
              "      <td>good</td>\n",
              "      <td>A191</td>\n",
              "      <td>A201</td>\n",
              "      <td>1</td>\n",
              "    </tr>\n",
              "    <tr>\n",
              "      <th>999</th>\n",
              "      <td>A11</td>\n",
              "      <td>45</td>\n",
              "      <td>A32</td>\n",
              "      <td>A43</td>\n",
              "      <td>1845</td>\n",
              "      <td>A61</td>\n",
              "      <td>A73</td>\n",
              "      <td>4</td>\n",
              "      <td>A93</td>\n",
              "      <td>A101</td>\n",
              "      <td>4</td>\n",
              "      <td>A124</td>\n",
              "      <td>23</td>\n",
              "      <td>A143</td>\n",
              "      <td>A153</td>\n",
              "      <td>1</td>\n",
              "      <td>A173</td>\n",
              "      <td>good</td>\n",
              "      <td>A192</td>\n",
              "      <td>A201</td>\n",
              "      <td>2</td>\n",
              "    </tr>\n",
              "    <tr>\n",
              "      <th>1000</th>\n",
              "      <td>A12</td>\n",
              "      <td>45</td>\n",
              "      <td>A34</td>\n",
              "      <td>A41</td>\n",
              "      <td>4576</td>\n",
              "      <td>A62</td>\n",
              "      <td>A71</td>\n",
              "      <td>3</td>\n",
              "      <td>A93</td>\n",
              "      <td>A101</td>\n",
              "      <td>4</td>\n",
              "      <td>A123</td>\n",
              "      <td>27</td>\n",
              "      <td>A143</td>\n",
              "      <td>A152</td>\n",
              "      <td>1</td>\n",
              "      <td>A173</td>\n",
              "      <td>good</td>\n",
              "      <td>A191</td>\n",
              "      <td>A201</td>\n",
              "      <td>1</td>\n",
              "    </tr>\n",
              "  </tbody>\n",
              "</table>\n",
              "<p>1000 rows × 21 columns</p>\n",
              "</div>"
            ],
            "text/plain": [
              "     chk_acct  duration credit_his purpose  ...  n_people telephone foreign  response\n",
              "1         A11         6        A34     A43  ...      good      A192    A201         1\n",
              "2         A12        48        A32     A43  ...      good      A191    A201         2\n",
              "3         A14        12        A34     A46  ...       bad      A191    A201         1\n",
              "4         A11        42        A32     A42  ...       bad      A191    A201         1\n",
              "5         A11        24        A33     A40  ...       bad      A191    A201         2\n",
              "...       ...       ...        ...     ...  ...       ...       ...     ...       ...\n",
              "996       A14        12        A32     A42  ...      good      A191    A201         1\n",
              "997       A11        30        A32     A41  ...      good      A192    A201         1\n",
              "998       A14        12        A32     A43  ...      good      A191    A201         1\n",
              "999       A11        45        A32     A43  ...      good      A192    A201         2\n",
              "1000      A12        45        A34     A41  ...      good      A191    A201         1\n",
              "\n",
              "[1000 rows x 21 columns]"
            ]
          },
          "metadata": {},
          "execution_count": 5
        }
      ]
    },
    {
      "cell_type": "markdown",
      "metadata": {
        "id": "3ZVS6wGNrrY2"
      },
      "source": [
        "# Answer to Question 3 :"
      ]
    },
    {
      "cell_type": "code",
      "metadata": {
        "id": "e72t5KozrrY3",
        "colab": {
          "base_uri": "https://localhost:8080/",
          "height": 439
        },
        "outputId": "050d1983-91f1-4752-ba64-bb0ec9a304e2"
      },
      "source": [
        "#orginal response coding 1= good, 2 = bad\n",
        "#we need 0 = good, 1 = bad\n",
        "\n",
        "data['response'] = data['response'].apply(lambda x: x - 1)\n",
        "data"
      ],
      "execution_count": 6,
      "outputs": [
        {
          "output_type": "execute_result",
          "data": {
            "text/html": [
              "<div>\n",
              "<style scoped>\n",
              "    .dataframe tbody tr th:only-of-type {\n",
              "        vertical-align: middle;\n",
              "    }\n",
              "\n",
              "    .dataframe tbody tr th {\n",
              "        vertical-align: top;\n",
              "    }\n",
              "\n",
              "    .dataframe thead th {\n",
              "        text-align: right;\n",
              "    }\n",
              "</style>\n",
              "<table border=\"1\" class=\"dataframe\">\n",
              "  <thead>\n",
              "    <tr style=\"text-align: right;\">\n",
              "      <th></th>\n",
              "      <th>chk_acct</th>\n",
              "      <th>duration</th>\n",
              "      <th>credit_his</th>\n",
              "      <th>purpose</th>\n",
              "      <th>amount</th>\n",
              "      <th>saving_acct</th>\n",
              "      <th>present_emp</th>\n",
              "      <th>installment_rate</th>\n",
              "      <th>sex</th>\n",
              "      <th>other_debtor</th>\n",
              "      <th>present_resid</th>\n",
              "      <th>property</th>\n",
              "      <th>age</th>\n",
              "      <th>other_install</th>\n",
              "      <th>housing</th>\n",
              "      <th>n_credits</th>\n",
              "      <th>job</th>\n",
              "      <th>n_people</th>\n",
              "      <th>telephone</th>\n",
              "      <th>foreign</th>\n",
              "      <th>response</th>\n",
              "    </tr>\n",
              "  </thead>\n",
              "  <tbody>\n",
              "    <tr>\n",
              "      <th>1</th>\n",
              "      <td>A11</td>\n",
              "      <td>6</td>\n",
              "      <td>A34</td>\n",
              "      <td>A43</td>\n",
              "      <td>1169</td>\n",
              "      <td>A65</td>\n",
              "      <td>A75</td>\n",
              "      <td>4</td>\n",
              "      <td>A93</td>\n",
              "      <td>A101</td>\n",
              "      <td>4</td>\n",
              "      <td>A121</td>\n",
              "      <td>67</td>\n",
              "      <td>A143</td>\n",
              "      <td>A152</td>\n",
              "      <td>2</td>\n",
              "      <td>A173</td>\n",
              "      <td>good</td>\n",
              "      <td>A192</td>\n",
              "      <td>A201</td>\n",
              "      <td>0</td>\n",
              "    </tr>\n",
              "    <tr>\n",
              "      <th>2</th>\n",
              "      <td>A12</td>\n",
              "      <td>48</td>\n",
              "      <td>A32</td>\n",
              "      <td>A43</td>\n",
              "      <td>5951</td>\n",
              "      <td>A61</td>\n",
              "      <td>A73</td>\n",
              "      <td>2</td>\n",
              "      <td>A92</td>\n",
              "      <td>A101</td>\n",
              "      <td>2</td>\n",
              "      <td>A121</td>\n",
              "      <td>22</td>\n",
              "      <td>A143</td>\n",
              "      <td>A152</td>\n",
              "      <td>1</td>\n",
              "      <td>A173</td>\n",
              "      <td>good</td>\n",
              "      <td>A191</td>\n",
              "      <td>A201</td>\n",
              "      <td>1</td>\n",
              "    </tr>\n",
              "    <tr>\n",
              "      <th>3</th>\n",
              "      <td>A14</td>\n",
              "      <td>12</td>\n",
              "      <td>A34</td>\n",
              "      <td>A46</td>\n",
              "      <td>2096</td>\n",
              "      <td>A61</td>\n",
              "      <td>A74</td>\n",
              "      <td>2</td>\n",
              "      <td>A93</td>\n",
              "      <td>A101</td>\n",
              "      <td>3</td>\n",
              "      <td>A121</td>\n",
              "      <td>49</td>\n",
              "      <td>A143</td>\n",
              "      <td>A152</td>\n",
              "      <td>1</td>\n",
              "      <td>A172</td>\n",
              "      <td>bad</td>\n",
              "      <td>A191</td>\n",
              "      <td>A201</td>\n",
              "      <td>0</td>\n",
              "    </tr>\n",
              "    <tr>\n",
              "      <th>4</th>\n",
              "      <td>A11</td>\n",
              "      <td>42</td>\n",
              "      <td>A32</td>\n",
              "      <td>A42</td>\n",
              "      <td>7882</td>\n",
              "      <td>A61</td>\n",
              "      <td>A74</td>\n",
              "      <td>2</td>\n",
              "      <td>A93</td>\n",
              "      <td>A103</td>\n",
              "      <td>4</td>\n",
              "      <td>A122</td>\n",
              "      <td>45</td>\n",
              "      <td>A143</td>\n",
              "      <td>A153</td>\n",
              "      <td>1</td>\n",
              "      <td>A173</td>\n",
              "      <td>bad</td>\n",
              "      <td>A191</td>\n",
              "      <td>A201</td>\n",
              "      <td>0</td>\n",
              "    </tr>\n",
              "    <tr>\n",
              "      <th>5</th>\n",
              "      <td>A11</td>\n",
              "      <td>24</td>\n",
              "      <td>A33</td>\n",
              "      <td>A40</td>\n",
              "      <td>4870</td>\n",
              "      <td>A61</td>\n",
              "      <td>A73</td>\n",
              "      <td>3</td>\n",
              "      <td>A93</td>\n",
              "      <td>A101</td>\n",
              "      <td>4</td>\n",
              "      <td>A124</td>\n",
              "      <td>53</td>\n",
              "      <td>A143</td>\n",
              "      <td>A153</td>\n",
              "      <td>2</td>\n",
              "      <td>A173</td>\n",
              "      <td>bad</td>\n",
              "      <td>A191</td>\n",
              "      <td>A201</td>\n",
              "      <td>1</td>\n",
              "    </tr>\n",
              "    <tr>\n",
              "      <th>...</th>\n",
              "      <td>...</td>\n",
              "      <td>...</td>\n",
              "      <td>...</td>\n",
              "      <td>...</td>\n",
              "      <td>...</td>\n",
              "      <td>...</td>\n",
              "      <td>...</td>\n",
              "      <td>...</td>\n",
              "      <td>...</td>\n",
              "      <td>...</td>\n",
              "      <td>...</td>\n",
              "      <td>...</td>\n",
              "      <td>...</td>\n",
              "      <td>...</td>\n",
              "      <td>...</td>\n",
              "      <td>...</td>\n",
              "      <td>...</td>\n",
              "      <td>...</td>\n",
              "      <td>...</td>\n",
              "      <td>...</td>\n",
              "      <td>...</td>\n",
              "    </tr>\n",
              "    <tr>\n",
              "      <th>996</th>\n",
              "      <td>A14</td>\n",
              "      <td>12</td>\n",
              "      <td>A32</td>\n",
              "      <td>A42</td>\n",
              "      <td>1736</td>\n",
              "      <td>A61</td>\n",
              "      <td>A74</td>\n",
              "      <td>3</td>\n",
              "      <td>A92</td>\n",
              "      <td>A101</td>\n",
              "      <td>4</td>\n",
              "      <td>A121</td>\n",
              "      <td>31</td>\n",
              "      <td>A143</td>\n",
              "      <td>A152</td>\n",
              "      <td>1</td>\n",
              "      <td>A172</td>\n",
              "      <td>good</td>\n",
              "      <td>A191</td>\n",
              "      <td>A201</td>\n",
              "      <td>0</td>\n",
              "    </tr>\n",
              "    <tr>\n",
              "      <th>997</th>\n",
              "      <td>A11</td>\n",
              "      <td>30</td>\n",
              "      <td>A32</td>\n",
              "      <td>A41</td>\n",
              "      <td>3857</td>\n",
              "      <td>A61</td>\n",
              "      <td>A73</td>\n",
              "      <td>4</td>\n",
              "      <td>A91</td>\n",
              "      <td>A101</td>\n",
              "      <td>4</td>\n",
              "      <td>A122</td>\n",
              "      <td>40</td>\n",
              "      <td>A143</td>\n",
              "      <td>A152</td>\n",
              "      <td>1</td>\n",
              "      <td>A174</td>\n",
              "      <td>good</td>\n",
              "      <td>A192</td>\n",
              "      <td>A201</td>\n",
              "      <td>0</td>\n",
              "    </tr>\n",
              "    <tr>\n",
              "      <th>998</th>\n",
              "      <td>A14</td>\n",
              "      <td>12</td>\n",
              "      <td>A32</td>\n",
              "      <td>A43</td>\n",
              "      <td>804</td>\n",
              "      <td>A61</td>\n",
              "      <td>A75</td>\n",
              "      <td>4</td>\n",
              "      <td>A93</td>\n",
              "      <td>A101</td>\n",
              "      <td>4</td>\n",
              "      <td>A123</td>\n",
              "      <td>38</td>\n",
              "      <td>A143</td>\n",
              "      <td>A152</td>\n",
              "      <td>1</td>\n",
              "      <td>A173</td>\n",
              "      <td>good</td>\n",
              "      <td>A191</td>\n",
              "      <td>A201</td>\n",
              "      <td>0</td>\n",
              "    </tr>\n",
              "    <tr>\n",
              "      <th>999</th>\n",
              "      <td>A11</td>\n",
              "      <td>45</td>\n",
              "      <td>A32</td>\n",
              "      <td>A43</td>\n",
              "      <td>1845</td>\n",
              "      <td>A61</td>\n",
              "      <td>A73</td>\n",
              "      <td>4</td>\n",
              "      <td>A93</td>\n",
              "      <td>A101</td>\n",
              "      <td>4</td>\n",
              "      <td>A124</td>\n",
              "      <td>23</td>\n",
              "      <td>A143</td>\n",
              "      <td>A153</td>\n",
              "      <td>1</td>\n",
              "      <td>A173</td>\n",
              "      <td>good</td>\n",
              "      <td>A192</td>\n",
              "      <td>A201</td>\n",
              "      <td>1</td>\n",
              "    </tr>\n",
              "    <tr>\n",
              "      <th>1000</th>\n",
              "      <td>A12</td>\n",
              "      <td>45</td>\n",
              "      <td>A34</td>\n",
              "      <td>A41</td>\n",
              "      <td>4576</td>\n",
              "      <td>A62</td>\n",
              "      <td>A71</td>\n",
              "      <td>3</td>\n",
              "      <td>A93</td>\n",
              "      <td>A101</td>\n",
              "      <td>4</td>\n",
              "      <td>A123</td>\n",
              "      <td>27</td>\n",
              "      <td>A143</td>\n",
              "      <td>A152</td>\n",
              "      <td>1</td>\n",
              "      <td>A173</td>\n",
              "      <td>good</td>\n",
              "      <td>A191</td>\n",
              "      <td>A201</td>\n",
              "      <td>0</td>\n",
              "    </tr>\n",
              "  </tbody>\n",
              "</table>\n",
              "<p>1000 rows × 21 columns</p>\n",
              "</div>"
            ],
            "text/plain": [
              "     chk_acct  duration credit_his purpose  ...  n_people telephone foreign  response\n",
              "1         A11         6        A34     A43  ...      good      A192    A201         0\n",
              "2         A12        48        A32     A43  ...      good      A191    A201         1\n",
              "3         A14        12        A34     A46  ...       bad      A191    A201         0\n",
              "4         A11        42        A32     A42  ...       bad      A191    A201         0\n",
              "5         A11        24        A33     A40  ...       bad      A191    A201         1\n",
              "...       ...       ...        ...     ...  ...       ...       ...     ...       ...\n",
              "996       A14        12        A32     A42  ...      good      A191    A201         0\n",
              "997       A11        30        A32     A41  ...      good      A192    A201         0\n",
              "998       A14        12        A32     A43  ...      good      A191    A201         0\n",
              "999       A11        45        A32     A43  ...      good      A192    A201         1\n",
              "1000      A12        45        A34     A41  ...      good      A191    A201         0\n",
              "\n",
              "[1000 rows x 21 columns]"
            ]
          },
          "metadata": {},
          "execution_count": 6
        }
      ]
    },
    {
      "cell_type": "markdown",
      "metadata": {
        "id": "esL9uCburrY3"
      },
      "source": [
        "# Answer to Question 4 :"
      ]
    },
    {
      "cell_type": "code",
      "metadata": {
        "id": "NiWXym3crrY4"
      },
      "source": [
        "# Levels : 0 and 1 ( 0 = good, 1 = bad)\n",
        "\n",
        "data['response'] = data['response'].apply(str)"
      ],
      "execution_count": 7,
      "outputs": []
    },
    {
      "cell_type": "code",
      "metadata": {
        "id": "hRd3XxforrY4",
        "colab": {
          "base_uri": "https://localhost:8080/"
        },
        "outputId": "337726b2-dd61-4d53-f7cb-bbe2b295a0a7"
      },
      "source": [
        "data.dtypes"
      ],
      "execution_count": 8,
      "outputs": [
        {
          "output_type": "execute_result",
          "data": {
            "text/plain": [
              "chk_acct            object\n",
              "duration             int64\n",
              "credit_his          object\n",
              "purpose             object\n",
              "amount               int64\n",
              "saving_acct         object\n",
              "present_emp         object\n",
              "installment_rate     int64\n",
              "sex                 object\n",
              "other_debtor        object\n",
              "present_resid        int64\n",
              "property            object\n",
              "age                  int64\n",
              "other_install       object\n",
              "housing             object\n",
              "n_credits            int64\n",
              "job                 object\n",
              "n_people            object\n",
              "telephone           object\n",
              "foreign             object\n",
              "response            object\n",
              "dtype: object"
            ]
          },
          "metadata": {},
          "execution_count": 8
        }
      ]
    },
    {
      "cell_type": "code",
      "metadata": {
        "id": "xYKm4kfCrrY4",
        "colab": {
          "base_uri": "https://localhost:8080/"
        },
        "outputId": "e0ea5407-f66b-404d-9efa-206a175774e3"
      },
      "source": [
        "data['response']"
      ],
      "execution_count": 9,
      "outputs": [
        {
          "output_type": "execute_result",
          "data": {
            "text/plain": [
              "1       0\n",
              "2       1\n",
              "3       0\n",
              "4       0\n",
              "5       1\n",
              "       ..\n",
              "996     0\n",
              "997     0\n",
              "998     0\n",
              "999     1\n",
              "1000    0\n",
              "Name: response, Length: 1000, dtype: object"
            ]
          },
          "metadata": {},
          "execution_count": 9
        }
      ]
    },
    {
      "cell_type": "markdown",
      "metadata": {
        "id": "liFNGL5OrrY5"
      },
      "source": [
        "# Answer to Question 5:"
      ]
    },
    {
      "cell_type": "code",
      "metadata": {
        "id": "mb3Ej1DYrrY5",
        "colab": {
          "base_uri": "https://localhost:8080/",
          "height": 297
        },
        "outputId": "243d2232-e78d-45be-b28f-e02f3c5da449"
      },
      "source": [
        "data.describe()"
      ],
      "execution_count": 10,
      "outputs": [
        {
          "output_type": "execute_result",
          "data": {
            "text/html": [
              "<div>\n",
              "<style scoped>\n",
              "    .dataframe tbody tr th:only-of-type {\n",
              "        vertical-align: middle;\n",
              "    }\n",
              "\n",
              "    .dataframe tbody tr th {\n",
              "        vertical-align: top;\n",
              "    }\n",
              "\n",
              "    .dataframe thead th {\n",
              "        text-align: right;\n",
              "    }\n",
              "</style>\n",
              "<table border=\"1\" class=\"dataframe\">\n",
              "  <thead>\n",
              "    <tr style=\"text-align: right;\">\n",
              "      <th></th>\n",
              "      <th>duration</th>\n",
              "      <th>amount</th>\n",
              "      <th>installment_rate</th>\n",
              "      <th>present_resid</th>\n",
              "      <th>age</th>\n",
              "      <th>n_credits</th>\n",
              "    </tr>\n",
              "  </thead>\n",
              "  <tbody>\n",
              "    <tr>\n",
              "      <th>count</th>\n",
              "      <td>1000.000000</td>\n",
              "      <td>1000.000000</td>\n",
              "      <td>1000.000000</td>\n",
              "      <td>1000.000000</td>\n",
              "      <td>1000.000000</td>\n",
              "      <td>1000.000000</td>\n",
              "    </tr>\n",
              "    <tr>\n",
              "      <th>mean</th>\n",
              "      <td>20.903000</td>\n",
              "      <td>3271.258000</td>\n",
              "      <td>2.973000</td>\n",
              "      <td>2.845000</td>\n",
              "      <td>35.546000</td>\n",
              "      <td>1.407000</td>\n",
              "    </tr>\n",
              "    <tr>\n",
              "      <th>std</th>\n",
              "      <td>12.058814</td>\n",
              "      <td>2822.736876</td>\n",
              "      <td>1.118715</td>\n",
              "      <td>1.103718</td>\n",
              "      <td>11.375469</td>\n",
              "      <td>0.577654</td>\n",
              "    </tr>\n",
              "    <tr>\n",
              "      <th>min</th>\n",
              "      <td>4.000000</td>\n",
              "      <td>250.000000</td>\n",
              "      <td>1.000000</td>\n",
              "      <td>1.000000</td>\n",
              "      <td>19.000000</td>\n",
              "      <td>1.000000</td>\n",
              "    </tr>\n",
              "    <tr>\n",
              "      <th>25%</th>\n",
              "      <td>12.000000</td>\n",
              "      <td>1365.500000</td>\n",
              "      <td>2.000000</td>\n",
              "      <td>2.000000</td>\n",
              "      <td>27.000000</td>\n",
              "      <td>1.000000</td>\n",
              "    </tr>\n",
              "    <tr>\n",
              "      <th>50%</th>\n",
              "      <td>18.000000</td>\n",
              "      <td>2319.500000</td>\n",
              "      <td>3.000000</td>\n",
              "      <td>3.000000</td>\n",
              "      <td>33.000000</td>\n",
              "      <td>1.000000</td>\n",
              "    </tr>\n",
              "    <tr>\n",
              "      <th>75%</th>\n",
              "      <td>24.000000</td>\n",
              "      <td>3972.250000</td>\n",
              "      <td>4.000000</td>\n",
              "      <td>4.000000</td>\n",
              "      <td>42.000000</td>\n",
              "      <td>2.000000</td>\n",
              "    </tr>\n",
              "    <tr>\n",
              "      <th>max</th>\n",
              "      <td>72.000000</td>\n",
              "      <td>18424.000000</td>\n",
              "      <td>4.000000</td>\n",
              "      <td>4.000000</td>\n",
              "      <td>75.000000</td>\n",
              "      <td>4.000000</td>\n",
              "    </tr>\n",
              "  </tbody>\n",
              "</table>\n",
              "</div>"
            ],
            "text/plain": [
              "          duration        amount  ...          age    n_credits\n",
              "count  1000.000000   1000.000000  ...  1000.000000  1000.000000\n",
              "mean     20.903000   3271.258000  ...    35.546000     1.407000\n",
              "std      12.058814   2822.736876  ...    11.375469     0.577654\n",
              "min       4.000000    250.000000  ...    19.000000     1.000000\n",
              "25%      12.000000   1365.500000  ...    27.000000     1.000000\n",
              "50%      18.000000   2319.500000  ...    33.000000     1.000000\n",
              "75%      24.000000   3972.250000  ...    42.000000     2.000000\n",
              "max      72.000000  18424.000000  ...    75.000000     4.000000\n",
              "\n",
              "[8 rows x 6 columns]"
            ]
          },
          "metadata": {},
          "execution_count": 10
        }
      ]
    },
    {
      "cell_type": "code",
      "metadata": {
        "id": "yxWX4aItrrY5",
        "colab": {
          "base_uri": "https://localhost:8080/"
        },
        "outputId": "d536f7ce-cf69-4481-9b47-25dd42893dcb"
      },
      "source": [
        "data.dtypes\n",
        "# Here : all the variables are either integer or object"
      ],
      "execution_count": 11,
      "outputs": [
        {
          "output_type": "execute_result",
          "data": {
            "text/plain": [
              "chk_acct            object\n",
              "duration             int64\n",
              "credit_his          object\n",
              "purpose             object\n",
              "amount               int64\n",
              "saving_acct         object\n",
              "present_emp         object\n",
              "installment_rate     int64\n",
              "sex                 object\n",
              "other_debtor        object\n",
              "present_resid        int64\n",
              "property            object\n",
              "age                  int64\n",
              "other_install       object\n",
              "housing             object\n",
              "n_credits            int64\n",
              "job                 object\n",
              "n_people            object\n",
              "telephone           object\n",
              "foreign             object\n",
              "response            object\n",
              "dtype: object"
            ]
          },
          "metadata": {},
          "execution_count": 11
        }
      ]
    },
    {
      "cell_type": "markdown",
      "metadata": {
        "id": "13DnAtrfrrY6"
      },
      "source": [
        "# Answer to Question 6:"
      ]
    },
    {
      "cell_type": "code",
      "metadata": {
        "id": "49fb9Jn6rrY6",
        "colab": {
          "base_uri": "https://localhost:8080/"
        },
        "outputId": "86ccda4a-5946-4bb9-a487-e31b5e86849e"
      },
      "source": [
        "corrMatrix = data.corr()\n",
        "print (corrMatrix)"
      ],
      "execution_count": 12,
      "outputs": [
        {
          "output_type": "stream",
          "name": "stdout",
          "text": [
            "                  duration    amount  ...       age  n_credits\n",
            "duration          1.000000  0.624984  ... -0.036136  -0.011284\n",
            "amount            0.624984  1.000000  ...  0.032716   0.020795\n",
            "installment_rate  0.074749 -0.271316  ...  0.058266   0.021669\n",
            "present_resid     0.034067  0.028926  ...  0.266419   0.089625\n",
            "age              -0.036136  0.032716  ...  1.000000   0.149254\n",
            "n_credits        -0.011284  0.020795  ...  0.149254   1.000000\n",
            "\n",
            "[6 rows x 6 columns]\n"
          ]
        }
      ]
    },
    {
      "cell_type": "code",
      "metadata": {
        "id": "ezrFkLODrrY6",
        "colab": {
          "base_uri": "https://localhost:8080/",
          "height": 341
        },
        "outputId": "9d4fc407-96c5-49b4-9aec-c0648c8a07d2"
      },
      "source": [
        "import seaborn as sn\n",
        "import matplotlib.pyplot as plt\n",
        "sn.heatmap(corrMatrix, annot=True)\n",
        "plt.show()"
      ],
      "execution_count": 13,
      "outputs": [
        {
          "output_type": "display_data",
          "data": {
            "image/png": "[encoded data removed]",
            "text/plain": [
              "<Figure size 432x288 with 2 Axes>"
            ]
          },
          "metadata": {
            "needs_background": "light"
          }
        }
      ]
    },
    {
      "cell_type": "markdown",
      "metadata": {
        "id": "10AzqD58rrY8"
      },
      "source": [
        "# Answer to Question 7: "
      ]
    },
    {
      "cell_type": "code",
      "metadata": {
        "id": "pQariveGrrY8",
        "colab": {
          "base_uri": "https://localhost:8080/",
          "height": 297
        },
        "outputId": "37112073-793e-4482-d078-403dd6f4d8a4"
      },
      "source": [
        "sns.countplot(x= 'installment_rate', data = data, hue= 'response')"
      ],
      "execution_count": 14,
      "outputs": [
        {
          "output_type": "execute_result",
          "data": {
            "text/plain": [
              "<matplotlib.axes._subplots.AxesSubplot at 0x7f7aa523a790>"
            ]
          },
          "metadata": {},
          "execution_count": 14
        },
        {
          "output_type": "display_data",
          "data": {
            "image/png": "[encoded data removed]",
            "text/plain": [
              "<Figure size 432x288 with 1 Axes>"
            ]
          },
          "metadata": {
            "needs_background": "light"
          }
        }
      ]
    },
    {
      "cell_type": "markdown",
      "metadata": {
        "id": "rP5TiWMOrrY8"
      },
      "source": [
        "# Answer to Question 8 : "
      ]
    },
    {
      "cell_type": "code",
      "metadata": {
        "id": "MFp2kwugrrY9",
        "colab": {
          "base_uri": "https://localhost:8080/",
          "height": 296
        },
        "outputId": "b0c077d6-e660-4a82-f7e3-46e875e47296"
      },
      "source": [
        "sns.boxplot(x='response', y='age',\n",
        "                 data=data, \n",
        "                 hue='response')"
      ],
      "execution_count": 15,
      "outputs": [
        {
          "output_type": "execute_result",
          "data": {
            "text/plain": [
              "<matplotlib.axes._subplots.AxesSubplot at 0x7f7aa4d23710>"
            ]
          },
          "metadata": {},
          "execution_count": 15
        },
        {
          "output_type": "display_data",
          "data": {
            "image/png": "[encoded data removed]",
            "text/plain": [
              "<Figure size 432x288 with 1 Axes>"
            ]
          },
          "metadata": {
            "needs_background": "light"
          }
        }
      ]
    },
    {
      "cell_type": "markdown",
      "metadata": {
        "id": "hEcycHYprrY9"
      },
      "source": [
        "# Answer to Question 9:"
      ]
    },
    {
      "cell_type": "code",
      "metadata": {
        "id": "iAGdAzu6rrY9",
        "colab": {
          "base_uri": "https://localhost:8080/",
          "height": 296
        },
        "outputId": "2377025e-e8a3-4539-f85b-dd6ff36ce6dd"
      },
      "source": [
        "sns.boxplot(x='response', y='duration',\n",
        "                 data=data, \n",
        "                 hue='response')"
      ],
      "execution_count": 16,
      "outputs": [
        {
          "output_type": "execute_result",
          "data": {
            "text/plain": [
              "<matplotlib.axes._subplots.AxesSubplot at 0x7f7aad293d50>"
            ]
          },
          "metadata": {},
          "execution_count": 16
        },
        {
          "output_type": "display_data",
          "data": {
            "image/png": "[encoded data removed]",
            "text/plain": [
              "<Figure size 432x288 with 1 Axes>"
            ]
          },
          "metadata": {
            "needs_background": "light"
          }
        }
      ]
    },
    {
      "cell_type": "markdown",
      "metadata": {
        "id": "uVKE5pKwrrY9"
      },
      "source": [
        "# Answer to Question 10:"
      ]
    },
    {
      "cell_type": "markdown",
      "metadata": {
        "id": "jNFQa4eOrrY-"
      },
      "source": [
        "Observation for 7th graph:\n",
        "The installment_rate variable has a great deal of difference between the good and bad records, we see that bad records have almost the double median value than good ones.\n",
        "\n",
        "Observation for 8th graph :\n",
        "From the age variable, we see that the median value for bad records is lesser than that of good records, it might be premature to say young people tend to have bad credit records, but we can safely assume it tends to be riskier.\n",
        "\n",
        "Observation for 9th graph:\n",
        "The median value and the range of the duration variables appears to be on the higher side of bad records as compared to good records"
      ]
    },
    {
      "cell_type": "markdown",
      "metadata": {
        "id": "UFAk0mw7rrY-"
      },
      "source": [
        "# Answer to Question 11:"
      ]
    },
    {
      "cell_type": "code",
      "metadata": {
        "id": "YWT4FyxJrrY-",
        "colab": {
          "base_uri": "https://localhost:8080/",
          "height": 297
        },
        "outputId": "0f7ad876-6383-4797-b635-51728a5ba2b4"
      },
      "source": [
        "sns.countplot(x= 'chk_acct', data = data, hue= 'response')"
      ],
      "execution_count": 17,
      "outputs": [
        {
          "output_type": "execute_result",
          "data": {
            "text/plain": [
              "<matplotlib.axes._subplots.AxesSubplot at 0x7f7aa4cc28d0>"
            ]
          },
          "metadata": {},
          "execution_count": 17
        },
        {
          "output_type": "display_data",
          "data": {
            "image/png": "[encoded data removed]",
            "text/plain": [
              "<Figure size 432x288 with 1 Axes>"
            ]
          },
          "metadata": {
            "needs_background": "light"
          }
        }
      ]
    },
    {
      "cell_type": "markdown",
      "metadata": {
        "id": "kpBF3zVTrrY-"
      },
      "source": [
        "# Answer to Question 12:"
      ]
    },
    {
      "cell_type": "code",
      "metadata": {
        "id": "mRV-PELPrrY_",
        "colab": {
          "base_uri": "https://localhost:8080/",
          "height": 297
        },
        "outputId": "a57ecfb2-92cc-494c-e606-3dc0f04b304b"
      },
      "source": [
        "sns.countplot(x= 'credit_his', data = data, hue= 'response')"
      ],
      "execution_count": 18,
      "outputs": [
        {
          "output_type": "execute_result",
          "data": {
            "text/plain": [
              "<matplotlib.axes._subplots.AxesSubplot at 0x7f7aa4c48290>"
            ]
          },
          "metadata": {},
          "execution_count": 18
        },
        {
          "output_type": "display_data",
          "data": {
            "image/png": "[encoded data removed]",
            "text/plain": [
              "<Figure size 432x288 with 1 Axes>"
            ]
          },
          "metadata": {
            "needs_background": "light"
          }
        }
      ]
    },
    {
      "cell_type": "markdown",
      "metadata": {
        "id": "H_SWVPHmrrY_"
      },
      "source": [
        "# Answer to Question : 13"
      ]
    },
    {
      "cell_type": "code",
      "metadata": {
        "id": "TJ5ovPxjrrZA",
        "colab": {
          "base_uri": "https://localhost:8080/",
          "height": 298
        },
        "outputId": "20089351-bfb5-4ca0-a6a7-6755dad8c00d"
      },
      "source": [
        "sns.countplot(x= 'saving_acct', data = data, hue= 'response')"
      ],
      "execution_count": 19,
      "outputs": [
        {
          "output_type": "execute_result",
          "data": {
            "text/plain": [
              "<matplotlib.axes._subplots.AxesSubplot at 0x7f7aa4bd2c90>"
            ]
          },
          "metadata": {},
          "execution_count": 19
        },
        {
          "output_type": "display_data",
          "data": {
            "image/png": "[encoded data removed]",
            "text/plain": [
              "<Figure size 432x288 with 1 Axes>"
            ]
          },
          "metadata": {
            "needs_background": "light"
          }
        }
      ]
    },
    {
      "cell_type": "markdown",
      "metadata": {
        "id": "MW0kEYzPrrZA"
      },
      "source": [
        "# Answer to Question: 14"
      ]
    },
    {
      "cell_type": "markdown",
      "metadata": {
        "id": "vmV9U3cZrrZA"
      },
      "source": [
        "Observation for 11th graph:\n",
        "For chk_acct we see that, the current status of the checking account matters as the frequency of the response variables is seen to differ from one sub category to another, overall A11 houses more number of bad credit records and A14 the least\n",
        "\n",
        "Observation for 12th graph:\n",
        "For credit_his, we observe that proportion of the response variable varies significantly, for categories A30, A31 we see the number of bad credit records are greater.\n",
        "\n",
        "Observations for 13th graph:\n",
        "With respect to 'Savings Account' we can visually observe that people with 'little' (A61) or 'moderate' (A62) income are likely to default more."
      ]
    },
    {
      "cell_type": "markdown",
      "metadata": {
        "id": "en1ssQ4grrZB"
      },
      "source": [
        "# Answer to Question : 15"
      ]
    },
    {
      "cell_type": "code",
      "metadata": {
        "id": "rlehmu8brrZB"
      },
      "source": [
        "x= data[['age', 'sex', 'housing', 'saving_acct',\n",
        "       'chk_acct', 'duration','amount']]\n",
        "y = data['response']"
      ],
      "execution_count": 20,
      "outputs": []
    },
    {
      "cell_type": "code",
      "metadata": {
        "id": "7zCnyeVerrZC"
      },
      "source": [
        "data['age'] = data['age'].apply(str)\n",
        "data['sex'] = data['sex'].apply(str)\n",
        "data['housing'] = data['housing'].apply(str)\n",
        "data['saving_acct'] = data['saving_acct'].apply(str)\n",
        "data['chk_acct'] = data['chk_acct'].apply(str)"
      ],
      "execution_count": 21,
      "outputs": []
    },
    {
      "cell_type": "code",
      "metadata": {
        "id": "U83dSJqfrrZC"
      },
      "source": [
        "data['age'] = data['age'].astype(int)\n",
        "data['duration'] = data['duration'].astype(int)\n",
        "data['amount'] = data['amount'].astype(int)"
      ],
      "execution_count": 22,
      "outputs": []
    },
    {
      "cell_type": "code",
      "metadata": {
        "id": "3c8PEFW2rrZC",
        "colab": {
          "base_uri": "https://localhost:8080/"
        },
        "outputId": "a197b160-baea-499f-8f18-d0625a485b12"
      },
      "source": [
        "data.dtypes"
      ],
      "execution_count": 23,
      "outputs": [
        {
          "output_type": "execute_result",
          "data": {
            "text/plain": [
              "chk_acct            object\n",
              "duration             int64\n",
              "credit_his          object\n",
              "purpose             object\n",
              "amount               int64\n",
              "saving_acct         object\n",
              "present_emp         object\n",
              "installment_rate     int64\n",
              "sex                 object\n",
              "other_debtor        object\n",
              "present_resid        int64\n",
              "property            object\n",
              "age                  int64\n",
              "other_install       object\n",
              "housing             object\n",
              "n_credits            int64\n",
              "job                 object\n",
              "n_people            object\n",
              "telephone           object\n",
              "foreign             object\n",
              "response            object\n",
              "dtype: object"
            ]
          },
          "metadata": {},
          "execution_count": 23
        }
      ]
    },
    {
      "cell_type": "markdown",
      "metadata": {
        "id": "DVSf_susrrZD"
      },
      "source": [
        "# Answer to Question : 16"
      ]
    },
    {
      "cell_type": "code",
      "metadata": {
        "id": "m-W4bwXtrrZD",
        "colab": {
          "base_uri": "https://localhost:8080/"
        },
        "outputId": "81a431c8-7daf-48b2-d562-72466baadebd"
      },
      "source": [
        "# List to store Categorical Columns\n",
        "cat_cols = list(x.columns[x.dtypes == 'object'])\n",
        "print(\"Categorical Columns: \",cat_cols)\n",
        "\n",
        "# List to store Numerical Columns\n",
        "num_cols = list(x.columns[x.dtypes != 'object'])\n",
        "print(\"\\nNumerical Columns:\" ,num_cols)\n",
        "\n",
        "## One-Hot Encoding Categorical Columns\n",
        "x_dummy =  pd.get_dummies(x[cat_cols], drop_first=True)\n",
        "\n",
        "## Joining New dummified and Numerical columns\n",
        "x_new = pd.concat([x_dummy, x[num_cols]], axis=1, join='inner')\n",
        "\n",
        "#### Normalizing the Dataset\n",
        "ss = StandardScaler()\n",
        "\n",
        "x_normal = ss.fit_transform(x_new)"
      ],
      "execution_count": 24,
      "outputs": [
        {
          "output_type": "stream",
          "name": "stdout",
          "text": [
            "Categorical Columns:  ['sex', 'housing', 'saving_acct', 'chk_acct']\n",
            "\n",
            "Numerical Columns: ['age', 'duration', 'amount']\n"
          ]
        }
      ]
    },
    {
      "cell_type": "markdown",
      "metadata": {
        "id": "WsFHaLLFrrZD"
      },
      "source": [
        "# Answer to Question : 17"
      ]
    },
    {
      "cell_type": "code",
      "metadata": {
        "id": "-8kpfHqfrrZE",
        "colab": {
          "base_uri": "https://localhost:8080/"
        },
        "outputId": "ab0d8d5b-a0cf-44f3-cd59-f045d5cc7c50"
      },
      "source": [
        "x_int, x_test, y_int, y_test = train_test_split(x_normal, y, test_size=100, stratify=y, random_state = 666)\n",
        "x_train,x_val,y_train,y_val = train_test_split(x_int, y_int, test_size=100, stratify = y_int, random_state = 666)\n",
        "print('train: {}% | Validation: {}% | Test: {}%'.format( round(len(y_train)/len(y),2), \n",
        "                                                        round(len(y_val)/len(y) ,2), \n",
        "                                                        round(len(y_test)/len(y),2) ) )"
      ],
      "execution_count": 25,
      "outputs": [
        {
          "output_type": "stream",
          "name": "stdout",
          "text": [
            "train: 0.8% | Validation: 0.1% | Test: 0.1%\n"
          ]
        }
      ]
    },
    {
      "cell_type": "markdown",
      "metadata": {
        "id": "AG5R_mpJrrZE"
      },
      "source": [
        "# Answer to Question : 18"
      ]
    },
    {
      "cell_type": "code",
      "metadata": {
        "id": "KCzjnjg4rrZE",
        "colab": {
          "base_uri": "https://localhost:8080/"
        },
        "outputId": "1caa4156-78e1-4480-8e97-5bbef7cb819e"
      },
      "source": [
        "lr = LogisticRegression()\n",
        "\n",
        "model = lr.fit(x_train, y_train)\n",
        "\n",
        "model.score(x_val, y_val)"
      ],
      "execution_count": 26,
      "outputs": [
        {
          "output_type": "execute_result",
          "data": {
            "text/plain": [
              "0.72"
            ]
          },
          "metadata": {},
          "execution_count": 26
        }
      ]
    },
    {
      "cell_type": "markdown",
      "metadata": {
        "id": "6ctTxBdCrrZF"
      },
      "source": [
        "# Answer to Question : 19"
      ]
    },
    {
      "cell_type": "code",
      "metadata": {
        "id": "JDFIybqgrrZF",
        "colab": {
          "base_uri": "https://localhost:8080/"
        },
        "outputId": "aa6fdbfc-2a98-4bbe-fbb2-08b4a8e6118e"
      },
      "source": [
        "# Predcited probability of each class.\n",
        "y_pred_prob = model.predict_proba(x_test)\n",
        "\n",
        "# Predicted value of each class\n",
        "y_pred = model.predict(x_test)\n",
        "\n",
        "cMatrix = confusion_matrix(y_test, y_pred)\n",
        "print(cMatrix)"
      ],
      "execution_count": 27,
      "outputs": [
        {
          "output_type": "stream",
          "name": "stdout",
          "text": [
            "[[64  6]\n",
            " [23  7]]\n"
          ]
        }
      ]
    },
    {
      "cell_type": "markdown",
      "metadata": {
        "id": "mRTQEOajrrZF"
      },
      "source": [
        "# Answer to Question : 20"
      ]
    },
    {
      "cell_type": "code",
      "metadata": {
        "id": "GBZYc3XVrrZF",
        "colab": {
          "base_uri": "https://localhost:8080/"
        },
        "outputId": "30f35b2f-1d35-4c5e-a454-3339c4a5ec35"
      },
      "source": [
        "print(\"Transactions which were falsely classified as FRAUD =  %.1f Percent\" %(cMatrix[0][1]/ sum(sum(cMatrix))*100 ) )\n",
        "print(\"Transactions which were falsely classified as NOT-FRAUD = %.1f Percent\"%(cMatrix[1][0]/ sum(sum(cMatrix))*100 ) )\n",
        "print(\"Transactions which were truly classified as FRAUD = %.1f Percent\"% (cMatrix[1][1]/ sum(sum(cMatrix))*100 ) )\n",
        "print(\"Transactions which were truly classified as NOT-FRAUD = %.1f Percent\"% (cMatrix[0][0]/ sum(sum(cMatrix))*100 ))"
      ],
      "execution_count": 28,
      "outputs": [
        {
          "output_type": "stream",
          "name": "stdout",
          "text": [
            "Transactions which were falsely classified as FRAUD =  6.0 Percent\n",
            "Transactions which were falsely classified as NOT-FRAUD = 23.0 Percent\n",
            "Transactions which were truly classified as FRAUD = 7.0 Percent\n",
            "Transactions which were truly classified as NOT-FRAUD = 64.0 Percent\n"
          ]
        }
      ]
    },
    {
      "cell_type": "markdown",
      "metadata": {
        "id": "BE-Rl7yWrrZG"
      },
      "source": [
        "# Answer to Questions 21 and 22:"
      ]
    },
    {
      "cell_type": "code",
      "metadata": {
        "id": "v1gBJ8NurrZG",
        "colab": {
          "base_uri": "https://localhost:8080/"
        },
        "outputId": "796dc8be-6510-4663-fdfd-c8cea6d58966"
      },
      "source": [
        "# precision, recall and F1\n",
        "from sklearn.preprocessing import LabelBinarizer\n",
        "\n",
        "lb = LabelBinarizer()\n",
        "y_train = np.array([number[0] for number in lb.fit_transform(y_train)])\n",
        "\n",
        "models = []\n",
        "\n",
        "models.append(('LR', LogisticRegression()))\n",
        "models.append(('SVC', SVC()))\n",
        "models.append(('RF', RandomForestClassifier()))\n",
        "\n",
        "# Model Evaluation\n",
        "\n",
        "result = []\n",
        "model_names = []\n",
        "scoring = ['accuracy', 'recall', 'precision', 'roc_auc']\n",
        "\n",
        "for model_name, model in models:\n",
        "    kfold = KFold(n_splits=10, random_state=666)\n",
        "    cv_results1 = cross_val_score(model, x_train, y_train, cv = kfold, scoring=scoring[0])\n",
        "    cv_results2 = cross_val_score(model, x_train, y_train, cv = kfold, scoring=scoring[1])\n",
        "    cv_results3 = cross_val_score(model, x_train, y_train, cv = kfold, scoring=scoring[2])\n",
        "    cv_results4 = cross_val_score(model, x_train, y_train, cv = kfold, scoring=scoring[3])\n",
        "    model_names.append(model_name)\n",
        "    msg = \"%s:\\n ACCURACY = %f, RECALL=(%f), PRECISION=(%f), ROC-AUC=(%f)\" % (model_name, cv_results1.mean(),cv_results2.mean(), cv_results3.mean(), cv_results4.mean())\n",
        "    print(msg)"
      ],
      "execution_count": 29,
      "outputs": [
        {
          "output_type": "stream",
          "name": "stdout",
          "text": [
            "LR:\n",
            " ACCURACY = 0.743750, RECALL=(0.410735), PRECISION=(0.623838), ROC-AUC=(0.753752)\n",
            "SVC:\n",
            " ACCURACY = 0.728750, RECALL=(0.327881), PRECISION=(0.584909), ROC-AUC=(0.745657)\n",
            "RF:\n",
            " ACCURACY = 0.731250, RECALL=(0.370233), PRECISION=(0.551959), ROC-AUC=(0.720959)\n"
          ]
        }
      ]
    }
  ]
}